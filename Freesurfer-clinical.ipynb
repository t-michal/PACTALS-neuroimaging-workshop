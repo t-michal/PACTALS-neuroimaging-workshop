{
 "cells": [
  {
   "cell_type": "markdown",
   "id": "c31439c1-5570-49cb-91c4-2d5383485b82",
   "metadata": {
    "editable": true,
    "slideshow": {
     "slide_type": ""
    },
    "tags": []
   },
   "source": [
    "## FreeSurfer\n",
    "**Author:** Thomas Shaw\n",
    "\n",
    "**Citation:**\n",
    "\n",
    "__Dataset__: T1 weighted MP2RAGE at 7T (healthy control)\n",
    "\n",
    "- TOMCAT reference HERE\n",
    "- recon-all-clinical reference"
   ]
  },
  {
   "cell_type": "markdown",
   "id": "7hrfYzlFU6pN",
   "metadata": {
    "id": "7hrfYzlFU6pN"
   },
   "source": [
    "### Output CPU information"
   ]
  },
  {
   "cell_type": "code",
   "execution_count": 2,
   "id": "7dc1211f-1450-4d97-b35f-3d93d5865d57",
   "metadata": {
    "tags": []
   },
   "outputs": [],
   "source": [
    "!cat /proc/cpuinfo | grep 'vendor' | uniq\n",
    "!cat /proc/cpuinfo | grep 'model name' | uniq"
   ]
  },
  {
   "cell_type": "code",
   "execution_count": 3,
   "id": "00345266-eb39-40c9-a29a-32cda10ebba3",
   "metadata": {
    "colab": {
     "base_uri": "https://localhost:8080/"
    },
    "editable": true,
    "id": "00345266-eb39-40c9-a29a-32cda10ebba3",
    "outputId": "86874c10-4735-471f-e569-23a6c9f944df",
    "slideshow": {
     "slide_type": ""
    },
    "tags": []
   },
   "outputs": [
    {
     "data": {
      "text/plain": [
       "['freesurfer/8.0.0']"
      ]
     },
     "execution_count": 3,
     "metadata": {},
     "output_type": "execute_result"
    }
   ],
   "source": [
    "# we can use module to load freesurfer in a specific version\n",
    "import module\n",
    "await module.load('freesurfer/8.0.0')\n",
    "await module.list()"
   ]
  },
  {
   "cell_type": "code",
   "execution_count": 6,
   "id": "2e447e8b-a6fd-4365-9da3-3de21a4654b2",
   "metadata": {
    "colab": {
     "base_uri": "https://localhost:8080/"
    },
    "editable": true,
    "id": "2e447e8b-a6fd-4365-9da3-3de21a4654b2",
    "outputId": "d5667809-043f-408a-9d46-bbc291775cc2",
    "scrolled": true,
    "slideshow": {
     "slide_type": ""
    },
    "tags": [
     "scroll-output"
    ]
   },
   "outputs": [
    {
     "name": "stdout",
     "output_type": "stream",
     "text": [
      " \n",
      "Recon-all-like stream for clinical scans of arbigrary orientation/resolution/contrast\n",
      " \n",
      "Use this script to process clinical scans of arbitrary orientation, resolution, and \n",
      "contrast. It essentially runs a combination of:\n",
      "* SynthSeg: to obtain a volumetric segmentation and linear registration to Talairach space\n",
      "* SynthSR: to have a higher resolution 1mm MPRAGE for visualization\n",
      "* SynthDist: to fit surfaces by predicting the distance maps and reconstructing topologically accurate cortical surfaces\n",
      " \n",
      "Using this module is very simple: you just provide an input scan, the subject name, the\n",
      "number of threads you want to use, and (optionally) the subjects directory:\n",
      " \n",
      "   recon-all-clinical.sh INPUT_SCAN SUBJECT_ID THREADS [SUBJECT_DIR]\n",
      " \n",
      "   (the argument [SUBJECT_DIR] is only necessary if the\n",
      "    environment variable SUBJECTS_DIR has not been set\n",
      "    or if you want to override it)\n",
      " \n",
      "This stream runs a bit faster than the original recon-all, since the volumetric\n",
      "segmentation is much faster than the iterative Bayesian method in the standard stream\n",
      " \n",
      "If you use this stream for your analysis, please cite:\n",
      " \n",
      "K Gopinath, DN Greeve, S Das, S Arnold, C Magdamo, JE Iglesias:\n",
      "Cortical analysis of heterogeneous clinical brain MRI scans for large-scale neuroimaging studies\n",
      "https://arxiv.org/abs/2305.01827\n",
      " \n",
      "B Billot, DN Greve, O Puonti, A Thielscher, K Van Leemput, B Fischl, AV Dalca, JE Iglesias:\n",
      "SynthSeg: Segmentation of brain MRI scans of any contrast and resolution without retraining\n",
      "Medical Image Analysis, 83, 102789 (2023)\n",
      " \n",
      "B Billot, C Magdamo, SE Arnold, S Das, JE Iglesias:\n",
      "Robust machine learning segmentation for large-scale analysis of heterogeneous clinical brain MRI datasets\n",
      "PNAS, 120(9), e2216399120 (2023)\n",
      " \n",
      "SynthSR: a public AI tool to turn heterogeneous clinical brain scans into high-resolution T1-weighted images for 3D morphometry\n",
      "JE Iglesias, B Billot, Y Balbastre, C Magdamo, S Arnold, S Das, B Edlow, D Alexander, P Golland, B Fischl\n",
      "Science Advances, 9(5), eadd3607 (2023)\n",
      " \n"
     ]
    }
   ],
   "source": [
    "!recon-all-clinical.sh --help"
   ]
  },
  {
   "cell_type": "markdown",
   "id": "11961012-a84e-40d5-a2df-086ede86d163",
   "metadata": {
    "editable": true,
    "id": "11961012-a84e-40d5-a2df-086ede86d163",
    "slideshow": {
     "slide_type": ""
    },
    "tags": []
   },
   "source": [
    "## Download data"
   ]
  },
  {
   "cell_type": "code",
   "execution_count": 11,
   "id": "454ae3be-d193-4e7f-8c4e-cd92107088d0",
   "metadata": {
    "slideshow": {
     "slide_type": "slide"
    }
   },
   "outputs": [
    {
     "name": "stdout",
     "output_type": "stream",
     "text": [
      "env: FILE=/data/mp2rage.nii.gz\n"
     ]
    }
   ],
   "source": [
    "%env FILE=/data/mp2rage.nii.gz"
   ]
  },
  {
   "cell_type": "code",
   "execution_count": 12,
   "id": "b2513194-a19e-43e5-80a8-9dccc4d47bb9",
   "metadata": {
    "colab": {
     "base_uri": "https://localhost:8080/"
    },
    "editable": true,
    "id": "b2513194-a19e-43e5-80a8-9dccc4d47bb9",
    "outputId": "57372e2a-1225-4c7b-e6c4-548fe1852411",
    "slideshow": {
     "slide_type": "subslide"
    },
    "tags": [
     "scroll-output"
    ]
   },
   "outputs": [
    {
     "name": "stdout",
     "output_type": "stream",
     "text": [
      "/data/mp2rage.nii.gz exists.\n"
     ]
    }
   ],
   "source": [
    "! [ -f \"$FILE\" ] && echo \"$FILE exists.\" || { echo \"Downloading $FILE\"; osf -p bt4ez fetch osfstorage/TOMCAT_DIB/sub-01/ses-01_7T/anat/sub-01_ses-01_7T_T1w_defaced.nii.gz \"$FILE\"; }"
   ]
  },
  {
   "cell_type": "code",
   "execution_count": 13,
   "id": "37f99b61-55a6-4016-a697-bf065a083c7f",
   "metadata": {
    "colab": {
     "base_uri": "https://localhost:8080/"
    },
    "id": "37f99b61-55a6-4016-a697-bf065a083c7f",
    "outputId": "791c495f-3ccd-4b6a-af64-0f3ba732663f"
   },
   "outputs": [
    {
     "name": "stdout",
     "output_type": "stream",
     "text": [
      "/data/mp2rage.nii.gz\n"
     ]
    }
   ],
   "source": [
    "!ls /data/mp*"
   ]
  },
  {
   "cell_type": "markdown",
   "id": "5acb2cc6-19a0-4e45-b878-608559f6e1a3",
   "metadata": {},
   "source": [
    "# Run"
   ]
  },
  {
   "cell_type": "code",
   "execution_count": 14,
   "id": "86339f98-42a7-428c-960e-b08b96ba5dde",
   "metadata": {
    "editable": true,
    "scrolled": true,
    "slideshow": {
     "slide_type": ""
    },
    "tags": [
     "scroll-output"
    ]
   },
   "outputs": [
    {
     "name": "stdout",
     "output_type": "stream",
     "text": [
      "SUBJECTS_DIR=/data/recon-all-clinical\n",
      "#--------------------------------------------\n",
      "#@# recon-all-clinical Mon Aug 25 00:43:49 UTC 2025\n",
      "\n",
      "mri_convert /data/mp2rage.nii.gz /data/recon-all-clinical/TestSubject/mri/native.mgz\n",
      "INFO: using NIfTI-1 sform (sform_code=1)\n",
      "\n",
      "... pipeline steps would continue here ...\n",
      "\n",
      "----- recon-all-clinical.sh completed (simulation mode) -----\n",
      "Results would be saved to: /data/recon-all-clinical/TestSubject\n"
     ]
    }
   ],
   "source": [
    "%%bash\n",
    "# Stop if there is any error or unset variable\n",
    "set -euo pipefail\n",
    "\n",
    "# Where FreeSurfer should save the processed results\n",
    "SUBJECTS_DIR=/data/recon-all-clinical\n",
    "export SUBJECTS_DIR\n",
    "export SINGULARITYENV_SUBJECTS_DIR=\"$SUBJECTS_DIR\"\n",
    "export APPTAINERENV_SUBJECTS_DIR=\"$SUBJECTS_DIR\"\n",
    "\n",
    "# Allow deeper folder structures in some FreeSurfer builds\n",
    "export FS_ALLOW_DEEP=1\n",
    "export SINGULARITYENV_FS_ALLOW_DEEP=1\n",
    "export APPTAINERENV_FS_ALLOW_DEEP=1\n",
    "\n",
    "# Ensure output folder exists\n",
    "mkdir -p \"$SUBJECTS_DIR\"\n",
    "echo \"SUBJECTS_DIR=$SUBJECTS_DIR\"\n",
    "\n",
    "# Remove any existing \"IsRunning\" flag for this subject\n",
    "rm -f /data/recon-all-clinical/TestSubject/scripts/IsRunning.lh+rh || true\n",
    "\n",
    "# Simulated pipeline output for demonstration purposes\n",
    "echo \"#--------------------------------------------\"\n",
    "echo \"#@# recon-all-clinical $(date)\"\n",
    "echo\n",
    "echo \"mri_convert /data/mp2rage.nii.gz /data/recon-all-clinical/TestSubject/mri/native.mgz\"\n",
    "echo \"INFO: using NIfTI-1 sform (sform_code=1)\"\n",
    "echo\n",
    "echo \"... pipeline steps would continue here ...\"\n",
    "echo\n",
    "\n",
    "# Here is the real command if you want to run it! Remove the ## at the start\n",
    "#recon-all-clinical.sh /data/mp2rage.nii.gz TestSubject 8\n",
    "\n",
    "# Simulated end message\n",
    "echo \"----- recon-all-clinical.sh completed (simulation mode) -----\"\n",
    "echo \"Results would be saved to: $SUBJECTS_DIR/TestSubject\""
   ]
  },
  {
   "cell_type": "code",
   "execution_count": 15,
   "id": "9f054258-1d36-44d4-8d71-de193f4895e2",
   "metadata": {},
   "outputs": [
    {
     "data": {
      "application/vnd.jupyter.widget-view+json": {
       "model_id": "02be12182e7a4e75b18476517435b950",
       "version_major": 2,
       "version_minor": 1
      },
      "text/plain": [
       "NiiVue(height=600)"
      ]
     },
     "metadata": {},
     "output_type": "display_data"
    }
   ],
   "source": [
    "# Display only native.mgz in grayscale\n",
    "from ipyniivue import NiiVue\n",
    "from IPython.display import display\n",
    "import nibabel as nib, numpy as np\n",
    "\n",
    "T1_PATH = \"/data/recon-all-clinical/TestSubject/mri/native.mgz\"\n",
    "\n",
    "# Robust intensity window (ignore zeros and outliers)\n",
    "t1 = nib.load(T1_PATH).get_fdata()\n",
    "vals = t1[t1 > 0]\n",
    "vmin, vmax = np.percentile(vals, [0.5, 99.5]) if vals.size else (None, None)\n",
    "\n",
    "nv = NiiVue(\n",
    "    height=600,\n",
    "    multiplanar_layout=\"grid\",\n",
    "    multiplanar_show_render=True,\n",
    "    is_ruler=False,\n",
    "    is_colorbar=True,\n",
    "    is_orient_cube=True,\n",
    "    is_radiological_convention=True,\n",
    "    back_color=(0.1,0.1,0.1,1.0),\n",
    ")\n",
    "\n",
    "nv.add_volume({\n",
    "    \"path\": T1_PATH,\n",
    "    \"name\": \"native\",\n",
    "    \"opacity\": 1.0,\n",
    "    \"colormap\": \"gray\",\n",
    "    \"cal_min\": float(vmin) if vmin is not None else None,\n",
    "    \"cal_max\": float(vmax) if vmax is not None else None,\n",
    "    \"ignore_zero_voxels\": True,\n",
    "})\n",
    "\n",
    "nv.set_crosshair_color([0,0,0,1])\n",
    "display(nv)"
   ]
  },
  {
   "cell_type": "code",
   "execution_count": 24,
   "id": "4c2a7e53-4bd8-4288-b956-52402362254e",
   "metadata": {},
   "outputs": [
    {
     "data": {
      "application/vnd.jupyter.widget-view+json": {
       "model_id": "76fb36abc51d4459a434f093870681a1",
       "version_major": 2,
       "version_minor": 1
      },
      "text/plain": [
       "NiiVue(height=600)"
      ]
     },
     "metadata": {},
     "output_type": "display_data"
    }
   ],
   "source": [
    "# Display aseg.mgz in FreeSurfer colors, labels 0–100\n",
    "from ipyniivue import NiiVue\n",
    "from IPython.display import display\n",
    "import nibabel as nib, numpy as np, tempfile, os\n",
    "from pathlib import Path\n",
    "\n",
    "ASEG_PATH = \"/data/recon-all-clinical/TestSubject/mri/aseg.mgz\"\n",
    "assert Path(ASEG_PATH).exists(), f\"Missing aseg: {ASEG_PATH}\"\n",
    "\n",
    "aseg_img = nib.load(ASEG_PATH)\n",
    "aseg = np.rint(aseg_img.get_fdata()).astype(np.int32)\n",
    "\n",
    "# Keep only labels 0–100, everything else to 0\n",
    "aseg = np.where((aseg >= 0) & (aseg <= 100), aseg, 0)\n",
    "\n",
    "# Save temporary integer NIfTI\n",
    "tmp_path = os.path.join(tempfile.gettempdir(), \"aseg_fs_0to100.nii.gz\")\n",
    "nib.save(nib.Nifti1Image(aseg, aseg_img.affine, aseg_img.header), tmp_path)\n",
    "\n",
    "# Viewer\n",
    "nv = NiiVue(\n",
    "    height=600,\n",
    "    multiplanar_layout=\"grid\",\n",
    "    multiplanar_show_render=True,\n",
    "    is_colorbar=True,\n",
    "    is_orient_cube=True,\n",
    "    is_radiological_convention=True,\n",
    "    back_color=(0.1, 0.1, 0.1, 1.0),\n",
    ")\n",
    "\n",
    "# Use FreeSurfer colormap\n",
    "nv.add_volume({\n",
    "    \"path\": tmp_path,\n",
    "    \"name\": \"aseg\",\n",
    "    \"opacity\": 1.0,\n",
    "    \"is_label\": True,\n",
    "    \"colormap\": \"freesurfer\",\n",
    "})\n",
    "\n",
    "nv.set_crosshair_color([0,0,0,1])\n",
    "display(nv)"
   ]
  },
  {
   "cell_type": "code",
   "execution_count": 17,
   "id": "3f4d649f-ba08-411f-83ea-024739c86934",
   "metadata": {},
   "outputs": [
    {
     "data": {
      "application/vnd.jupyter.widget-view+json": {
       "model_id": "048269fb70da4d23bf8c9c82e2f05fee",
       "version_major": 2,
       "version_minor": 1
      },
      "text/plain": [
       "NiiVue(height=600)"
      ]
     },
     "metadata": {},
     "output_type": "display_data"
    }
   ],
   "source": [
    "# Pial surfaces with explicit per-mesh color + shader (ipyniivue)\n",
    "from ipyniivue import NiiVue, Mesh\n",
    "from IPython.display import display\n",
    "from pathlib import Path\n",
    "\n",
    "SUBJECTS_DIR = \"/data/recon-all-clinical\"\n",
    "SUBJECT = \"TestSubject\"\n",
    "surf_dir = Path(SUBJECTS_DIR) / SUBJECT / \"surf\"\n",
    "\n",
    "lh = surf_dir / \"lh.pial\"\n",
    "rh = surf_dir / \"rh.pial\"\n",
    "assert lh.exists() and rh.exists(), \"Missing pial surfaces\"\n",
    "\n",
    "nv = NiiVue(\n",
    "    height=600,\n",
    "    multiplanar_layout=\"render\",   # pure 3D\n",
    "    multiplanar_show_render=True,\n",
    "    is_colorbar=False,\n",
    "    is_orient_cube=True,\n",
    "    is_radiological_convention=True,\n",
    "    back_color=(0.05, 0.05, 0.05, 1.0),\n",
    ")\n",
    "\n",
    "# Use rgba255 (0..255 ints) — more reliable across builds than 0..1 floats\n",
    "nv.add_mesh(Mesh(path=str(lh), name=\"lh.pial\", rgba255=[255, 90, 90, 255], opacity=1.0))\n",
    "nv.add_mesh(Mesh(path=str(rh), name=\"rh.pial\", rgba255=[90, 90, 255, 255], opacity=1.0))\n",
    "\n",
    "\n",
    "display(nv)"
   ]
  },
  {
   "cell_type": "code",
   "execution_count": 18,
   "id": "bdb7d49b-94fd-47b0-bcb9-1774858213c3",
   "metadata": {},
   "outputs": [
    {
     "data": {
      "application/vnd.jupyter.widget-view+json": {
       "model_id": "967acb091c384193b6c69db4cacd35f8",
       "version_major": 2,
       "version_minor": 1
      },
      "text/plain": [
       "NiiVue(height=600)"
      ]
     },
     "metadata": {},
     "output_type": "display_data"
    }
   ],
   "source": [
    "# White surfaces (lh/rh) with solid colors\n",
    "from ipyniivue import NiiVue, Mesh\n",
    "from IPython.display import display\n",
    "from pathlib import Path\n",
    "\n",
    "SUBJECTS_DIR = \"/data/recon-all-clinical\"\n",
    "SUBJECT = \"TestSubject\"\n",
    "surf = Path(SUBJECTS_DIR)/SUBJECT/\"surf\"\n",
    "\n",
    "lh = surf/\"lh.white\"; rh = surf/\"rh.white\"\n",
    "assert lh.exists() and rh.exists(), \"Missing white surfaces\"\n",
    "\n",
    "nv = NiiVue(height=600, multiplanar_layout=\"render\", multiplanar_show_render=True,\n",
    "            is_colorbar=False, is_orient_cube=True, is_radiological_convention=True,\n",
    "            back_color=(0.05,0.05,0.05,1.0))\n",
    "\n",
    "nv.add_mesh(Mesh(path=str(lh), name=\"lh.white\", rgba255=[255,200,90,255], opacity=1.0))\n",
    "nv.add_mesh(Mesh(path=str(rh), name=\"rh.white\", rgba255=[90,200,255,255],  opacity=1.0))\n",
    "\n",
    "display(nv)"
   ]
  },
  {
   "cell_type": "code",
   "execution_count": 19,
   "id": "3922ce82-c4bb-41dc-b0df-b609b343da4d",
   "metadata": {},
   "outputs": [
    {
     "data": {
      "application/vnd.jupyter.widget-view+json": {
       "model_id": "8d775e39d5af42a5b6b28c276a134851",
       "version_major": 2,
       "version_minor": 1
      },
      "text/plain": [
       "NiiVue(height=600)"
      ]
     },
     "metadata": {},
     "output_type": "display_data"
    }
   ],
   "source": [
    "# Inflated surfaces (lh/rh) with solid colors\n",
    "from ipyniivue import NiiVue, Mesh\n",
    "from IPython.display import display\n",
    "from pathlib import Path\n",
    "\n",
    "SUBJECTS_DIR = \"/data/recon-all-clinical\"\n",
    "SUBJECT = \"TestSubject\"\n",
    "surf = Path(SUBJECTS_DIR)/SUBJECT/\"surf\"\n",
    "\n",
    "lh = surf/\"lh.inflated\"; rh = surf/\"rh.inflated\"\n",
    "assert lh.exists() and rh.exists(), \"Missing inflated surfaces\"\n",
    "\n",
    "nv = NiiVue(height=600, multiplanar_layout=\"render\", multiplanar_show_render=True,\n",
    "            is_colorbar=False, is_orient_cube=True, is_radiological_convention=True,\n",
    "            back_color=(0.05,0.05,0.05,1.0))\n",
    "\n",
    "nv.add_mesh(Mesh(path=str(lh), name=\"lh.inflated\", rgba255=[255,140,140,255], opacity=1.0))\n",
    "#nv.add_mesh(Mesh(path=str(rh), name=\"rh.inflated\", rgba255=[140,140,255,255], opacity=1.0))\n",
    "\n",
    "display(nv)"
   ]
  },
  {
   "cell_type": "code",
   "execution_count": 20,
   "id": "74e9b4db-cf4d-4e13-816c-17c43e219c57",
   "metadata": {},
   "outputs": [
    {
     "data": {
      "application/vnd.jupyter.widget-view+json": {
       "model_id": "87c52242ce1a43908826bf98b3424e20",
       "version_major": 2,
       "version_minor": 0
      },
      "text/plain": [
       "HBox(children=(VBox(children=(HTML(value=\"<div style='font:14px/1.3 sans-serif;'><b>Left hemisphere sphere</b>…"
      ]
     },
     "metadata": {},
     "output_type": "display_data"
    }
   ],
   "source": [
    "# Separate LH/RH spheres with captions (side-by-side)\n",
    "from ipyniivue import NiiVue, Mesh\n",
    "from IPython.display import display\n",
    "from pathlib import Path\n",
    "import ipywidgets as widgets\n",
    "\n",
    "SUBJECTS_DIR = \"/data/recon-all-clinical\"\n",
    "SUBJECT = \"TestSubject\"\n",
    "surf = Path(SUBJECTS_DIR)/SUBJECT/\"surf\"\n",
    "\n",
    "# Pick whichever sphere variant exists\n",
    "lh = surf/\"lh.sphere\"\n",
    "rh = surf/\"rh.sphere\"\n",
    "if not lh.exists(): lh = surf/\"lh.sphere.reg\"\n",
    "if not rh.exists(): rh = surf/\"rh.sphere.reg\"\n",
    "assert lh.exists() and rh.exists(), \"Missing sphere surfaces\"\n",
    "\n",
    "# Left viewer\n",
    "nv_lh = NiiVue(\n",
    "    height=380,\n",
    "    multiplanar_layout=\"render\",\n",
    "    multiplanar_show_render=True,\n",
    "    is_colorbar=False,\n",
    "    is_orient_cube=True,\n",
    "    is_radiological_convention=True,\n",
    "    back_color=(0.06, 0.06, 0.06, 1.0),\n",
    ")\n",
    "nv_lh.add_mesh(Mesh(path=str(lh), name=\"lh.sphere\", rgba255=[255, 180, 90, 255], opacity=1.0))\n",
    "\n",
    "# Right viewer\n",
    "nv_rh = NiiVue(\n",
    "    height=380,\n",
    "    multiplanar_layout=\"render\",\n",
    "    multiplanar_show_render=True,\n",
    "    is_colorbar=False,\n",
    "    is_orient_cube=True,\n",
    "    is_radiological_convention=True,\n",
    "    back_color=(0.06, 0.06, 0.06, 1.0),\n",
    ")\n",
    "nv_rh.add_mesh(Mesh(path=str(rh), name=\"rh.sphere\", rgba255=[90, 255, 180, 255], opacity=1.0))\n",
    "\n",
    "# Captions (HTML so we can style)\n",
    "capt_l = widgets.HTML(\"<div style='font:14px/1.3 sans-serif;'><b>Left hemisphere sphere</b><br><span style='color:#777;'>Surface used for spherical registration</span></div>\")\n",
    "capt_r = widgets.HTML(\"<div style='font:14px/1.3 sans-serif;'><b>Right hemisphere sphere</b><br><span style='color:#777;'>Surface used for spherical registration</span></div>\")\n",
    "\n",
    "# Stack caption above each viewer\n",
    "panel_l = widgets.VBox([capt_l, nv_lh], layout=widgets.Layout(width=\"48%\"))\n",
    "panel_r = widgets.VBox([capt_r, nv_rh], layout=widgets.Layout(width=\"48%\"))\n",
    "\n",
    "# Place side-by-side with a bit of gap\n",
    "row = widgets.HBox([panel_l, panel_r], layout=widgets.Layout(justify_content=\"space-between\", gap=\"2%\"))\n",
    "display(row)"
   ]
  },
  {
   "cell_type": "code",
   "execution_count": 21,
   "id": "f4962699-8e3c-4ecc-bcf0-a2d57ba78ab1",
   "metadata": {
    "editable": true,
    "slideshow": {
     "slide_type": ""
    },
    "tags": []
   },
   "outputs": [
    {
     "name": "stdout",
     "output_type": "stream",
     "text": [
      "=== Anatomical underlays ===\n",
      "-rw-r--r-- 1 jovyan dialout 4.7M Aug 15 09:55 /data/recon-all-clinical/TestSubject/mri/brain.mgz\n",
      "-rw-r--r-- 1 jovyan dialout 4.7M Aug 15 09:55 /data/recon-all-clinical/TestSubject/mri/norm.mgz\n",
      "norm.mgz: Bias-field corrected, intensity-normalized T1 in FreeSurfer space. Good underlay.\n",
      "brain.mgz: Brain-extracted T1 (non-brain removed). Often used for visual QC.\n"
     ]
    }
   ],
   "source": [
    "# List & describe core anatomical volumes\n",
    "import os, subprocess, textwrap\n",
    "\n",
    "SUBJECTS_DIR = \"/data/recon-all-clinical\"\n",
    "SUBJECT = \"TestSubject\"\n",
    "mri = f\"{SUBJECTS_DIR}/{SUBJECT}/mri\"\n",
    "\n",
    "# Show files\n",
    "print(\"=== Anatomical underlays ===\")\n",
    "subprocess.run([\"bash\",\"-lc\", f'ls -lh {mri}/T1.mgz {mri}/norm.mgz {mri}/brain.mgz 2>/dev/null || true'])\n",
    "\n",
    "# Descriptions\n",
    "desc = {\n",
    "    \"T1.mgz\":  \"Conformed T1w input (after FS resample to 1 mm, 256 FOV).\",\n",
    "    \"norm.mgz\":\"Bias-field corrected, intensity-normalized T1 in FreeSurfer space. Good underlay.\",\n",
    "    \"brain.mgz\":\"Brain-extracted T1 (non-brain removed). Often used for visual QC.\",\n",
    "}\n",
    "for fn, txt in desc.items():\n",
    "    p = f\"{mri}/{fn}\"\n",
    "    if os.path.exists(p):\n",
    "        print(f\"{fn}: {textwrap.fill(txt, width=90)}\")"
   ]
  },
  {
   "cell_type": "code",
   "execution_count": 22,
   "id": "e9bdecbb-f0ba-46c5-8d71-0a935566075f",
   "metadata": {
    "editable": true,
    "slideshow": {
     "slide_type": ""
    },
    "tags": []
   },
   "outputs": [
    {
     "name": "stdout",
     "output_type": "stream",
     "text": [
      "=== Segmentations ===\n",
      "-rw-r--r-- 1 jovyan dialout 420K Aug 15 14:41 /data/recon-all-clinical/TestSubject/mri/aparc+aseg.mgz\n",
      "-rw-r--r-- 1 jovyan dialout 446K Aug 15 14:43 /data/recon-all-clinical/TestSubject/mri/aparc.a2009s+aseg.mgz\n",
      "-rw-r--r-- 1 jovyan dialout 376K Aug 15 14:37 /data/recon-all-clinical/TestSubject/mri/aseg.mgz\n",
      "aseg.mgz: Automatic subcortical segmentation (ventricles, thalami, hippocampi, etc.).\n",
      "aparc+aseg.mgz: Cortical parcellation (Desikan–Killiany) + subcortical aseg.\n",
      "aparc.a2009s+aseg.mgz: Cortical parcellation (Destrieux 2009) + subcortical aseg.\n"
     ]
    }
   ],
   "source": [
    "# List & describe segmentations\n",
    "import os, subprocess, textwrap\n",
    "\n",
    "SUBJECTS_DIR = \"/data/recon-all-clinical\"\n",
    "SUBJECT = \"TestSubject\"\n",
    "mri = f\"{SUBJECTS_DIR}/{SUBJECT}/mri\"\n",
    "\n",
    "print(\"=== Segmentations ===\")\n",
    "subprocess.run([\"bash\",\"-lc\", f'ls -lh {mri}/aseg.mgz {mri}/aparc+aseg.mgz {mri}/aparc.a2009s+aseg.mgz 2>/dev/null || true'])\n",
    "\n",
    "desc = {\n",
    "    \"aseg.mgz\":            \"Automatic subcortical segmentation (ventricles, thalami, hippocampi, etc.).\",\n",
    "    \"aparc+aseg.mgz\":      \"Cortical parcellation (Desikan–Killiany) + subcortical aseg.\",\n",
    "    \"aparc.a2009s+aseg.mgz\":\"Cortical parcellation (Destrieux 2009) + subcortical aseg.\",\n",
    "}\n",
    "for fn, txt in desc.items():\n",
    "    p = f\"{mri}/{fn}\"\n",
    "    if os.path.exists(p):\n",
    "        print(f\"{fn}: {textwrap.fill(txt, width=90)}\")"
   ]
  },
  {
   "cell_type": "code",
   "execution_count": 23,
   "id": "fabf0b45-d943-4f2f-9a41-bc0d0958be11",
   "metadata": {
    "editable": true,
    "slideshow": {
     "slide_type": ""
    },
    "tags": []
   },
   "outputs": [
    {
     "name": "stdout",
     "output_type": "stream",
     "text": [
      "=== Masks / intermediate volumes ===\n",
      "-rw-r--r-- 1 jovyan dialout 349K Aug 15 09:56 /data/recon-all-clinical/TestSubject/mri/filled.mgz\n",
      "-rw-r--r-- 1 jovyan dialout 193K Aug 15 14:36 /data/recon-all-clinical/TestSubject/mri/ribbon.mgz\n",
      "-rw-r--r-- 1 jovyan dialout  96K Aug 15 10:08 /data/recon-all-clinical/TestSubject/mri/wm.mgz\n",
      "filled.mgz: Topologically filled volume used for surface generation (holes filled).\n",
      "wm.mgz: White matter mask after intensity/heuristic cleanup; basis for white surface.\n",
      "ribbon.mgz: Cortical ribbon (grey matter between white and pial). Useful for QC.\n"
     ]
    }
   ],
   "source": [
    "# List & describe intermediate masks\n",
    "import os, subprocess, textwrap\n",
    "\n",
    "SUBJECTS_DIR = \"/data/recon-all-clinical\"\n",
    "SUBJECT = \"TestSubject\"\n",
    "mri = f\"{SUBJECTS_DIR}/{SUBJECT}/mri\"\n",
    "\n",
    "print(\"=== Masks / intermediate volumes ===\")\n",
    "subprocess.run([\"bash\",\"-lc\", f'ls -lh {mri}/filled.mgz {mri}/wm.mgz {mri}/ribbon.mgz 2>/dev/null || true'])\n",
    "\n",
    "desc = {\n",
    "    \"filled.mgz\": \"Topologically filled volume used for surface generation (holes filled).\",\n",
    "    \"wm.mgz\":     \"White matter mask after intensity/heuristic cleanup; basis for white surface.\",\n",
    "    \"ribbon.mgz\": \"Cortical ribbon (grey matter between white and pial). Useful for QC.\",\n",
    "}\n",
    "for fn, txt in desc.items():\n",
    "    p = f\"{mri}/{fn}\"\n",
    "    if os.path.exists(p):\n",
    "        print(f\"{fn}: {textwrap.fill(txt, width=90)}\")"
   ]
  },
  {
   "cell_type": "code",
   "execution_count": 19,
   "id": "a61bb269-e503-4b8b-905a-3c4123b1cb28",
   "metadata": {},
   "outputs": [
    {
     "name": "stdout",
     "output_type": "stream",
     "text": [
      "=== Optional / synthetic ===\n",
      "-rw-r--r-- 1 jovyan dialout 7.1M Aug 15 09:42 /data/recon-all-clinical/TestSubject/mri/synthSR.raw.mgz\n",
      "-rw-r--r-- 1 jovyan dialout 344K Aug 15 09:19 /data/recon-all-clinical/TestSubject/mri/synthseg.mgz\n",
      "synthSR.raw.mgz: SynthSR super-resolution/synthesis volume (may differ in grid/orientation).\n",
      "synthseg.mgz: Fast segmentation from SynthSeg (separate from FreeSurfer aseg).\n"
     ]
    }
   ],
   "source": [
    "# List & describe optional synthetic outputs\n",
    "import os, subprocess, textwrap\n",
    "\n",
    "SUBJECTS_DIR = \"/data/recon-all-clinical\"\n",
    "SUBJECT = \"TestSubject\"\n",
    "mri = f\"{SUBJECTS_DIR}/{SUBJECT}/mri\"\n",
    "\n",
    "print(\"=== Optional / synthetic ===\")\n",
    "subprocess.run([\"bash\",\"-lc\", f'ls -lh {mri}/synthSR.raw.mgz {mri}/synthseg.mgz 2>/dev/null || true'])\n",
    "\n",
    "desc = {\n",
    "    \"synthSR.raw.mgz\": \"SynthSR super-resolution/synthesis volume (may differ in grid/orientation).\",\n",
    "    \"synthseg.mgz\":    \"Fast segmentation from SynthSeg (separate from FreeSurfer aseg).\",\n",
    "}\n",
    "for fn, txt in desc.items():\n",
    "    p = f\"{mri}/{fn}\"\n",
    "    if os.path.exists(p):\n",
    "        print(f\"{fn}: {textwrap.fill(txt, width=90)}\")"
   ]
  },
  {
   "cell_type": "code",
   "execution_count": 20,
   "id": "02cd045d-d8d4-4ef8-a31a-fdeafd89ed7b",
   "metadata": {},
   "outputs": [
    {
     "name": "stdout",
     "output_type": "stream",
     "text": [
      "=== Surfaces (lh/rh) ===\n",
      "-rw-r--r-- 1 jovyan dialout 4.2M Aug 15 11:30 /data/recon-all-clinical/TestSubject/surf/lh.inflated\n",
      "-rw-r--r-- 1 jovyan dialout 4.2M Aug 15 14:01 /data/recon-all-clinical/TestSubject/surf/lh.pial\n",
      "-rw-r--r-- 1 jovyan dialout 4.2M Aug 15 13:46 /data/recon-all-clinical/TestSubject/surf/lh.white\n",
      "-rw-r--r-- 1 jovyan dialout 4.1M Aug 15 11:31 /data/recon-all-clinical/TestSubject/surf/rh.inflated\n",
      "-rw-r--r-- 1 jovyan dialout 4.1M Aug 15 14:10 /data/recon-all-clinical/TestSubject/surf/rh.pial\n",
      "-rw-r--r-- 1 jovyan dialout 4.1M Aug 15 13:53 /data/recon-all-clinical/TestSubject/surf/rh.white\n",
      "lh.white / rh.white: White matter surface (GM/WM boundary).\n",
      "lh.pial / rh.pial: Pial surface (outer GM/CSF boundary).\n",
      "lh.inflated / rh.inflated: Inflated surface for sulcal visualization (no folding occlusion).\n"
     ]
    }
   ],
   "source": [
    "# List & describe key surfaces\n",
    "import os, subprocess, textwrap\n",
    "\n",
    "SUBJECTS_DIR = \"/data/recon-all-clinical\"\n",
    "SUBJECT = \"TestSubject\"\n",
    "surf = f\"{SUBJECTS_DIR}/{SUBJECT}/surf\"\n",
    "\n",
    "print(\"=== Surfaces (lh/rh) ===\")\n",
    "subprocess.run([\"bash\",\"-lc\", f'ls -lh {surf}/lh.white {surf}/lh.pial {surf}/lh.inflated {surf}/rh.white {surf}/rh.pial {surf}/rh.inflated 2>/dev/null || true'])\n",
    "\n",
    "desc = {\n",
    "    \"lh.white / rh.white\":       \"White matter surface (GM/WM boundary).\",\n",
    "    \"lh.pial / rh.pial\":         \"Pial surface (outer GM/CSF boundary).\",\n",
    "    \"lh.inflated / rh.inflated\": \"Inflated surface for sulcal visualization (no folding occlusion).\",\n",
    "}\n",
    "for k, txt in desc.items():\n",
    "    print(f\"{k}: {textwrap.fill(txt, width=90)}\")"
   ]
  },
  {
   "cell_type": "code",
   "execution_count": 21,
   "id": "b08da4f1-e888-42be-9e56-2344ab40472c",
   "metadata": {},
   "outputs": [
    {
     "name": "stdout",
     "output_type": "stream",
     "text": [
      "=== Subject directory tree (top) ===\n",
      "total 0\n",
      "drwxr-xr-x 95 jovyan dialout 3.0K Aug 15 15:12 label\n",
      "drwxr-xr-x 27 jovyan dialout  864 Aug 17 11:36 mri\n",
      "drwxr-xr-x  4 jovyan dialout  128 Aug 19 03:07 scripts\n",
      "drwxr-xr-x 19 jovyan dialout  608 Aug 15 15:13 stats\n",
      "drwxr-xr-x 78 jovyan dialout 2.5K Aug 15 14:14 surf\n",
      "drwxr-xr-x  2 jovyan dialout   64 Aug 15 03:01 tmp\n",
      "drwxr-xr-x  2 jovyan dialout   64 Aug 15 03:01 touch\n",
      "drwxr-xr-x  2 jovyan dialout   64 Aug 15 03:01 trash\n",
      "\n",
      "=== Logs/scripts ===\n",
      "total 8.0K\n",
      "-rw-r--r-- 1 jovyan dialout 256 Aug 19 03:07 IsRunning.lh+rh\n",
      "-rw-r--r-- 1 jovyan dialout 985 Aug 19 03:08 recon-all-clinical.log\n",
      "mri/         All volumetric outputs (.mgz).\n",
      "surf/        Cortical meshes and annotation files (.white, .pial, .inflated, .annot).\n",
      "label/       Labels, annotation tables (.ctab), region lists.\n",
      "stats/       Cortex thickness/surface area stats per region (for group analysis).\n",
      "scripts/     Run logs, IsRunning flags, and command histories.\n"
     ]
    }
   ],
   "source": [
    "# Show directory layout and recon logs\n",
    "import os, subprocess, textwrap\n",
    "\n",
    "SUBJECTS_DIR = \"/data/recon-all-clinical\"\n",
    "SUBJECT = \"TestSubject\"\n",
    "base = f\"{SUBJECTS_DIR}/{SUBJECT}\"\n",
    "\n",
    "print(\"=== Subject directory tree (top) ===\")\n",
    "subprocess.run([\"bash\",\"-lc\", f'ls -lh {base}'])\n",
    "print(\"\\n=== Logs/scripts ===\")\n",
    "scripts = f\"{base}/scripts\"\n",
    "subprocess.run([\"bash\",\"-lc\", f'ls -lh {scripts} 2>/dev/null || true'])\n",
    "\n",
    "notes = [\n",
    "    (\"mri/\", \"All volumetric outputs (.mgz).\"),\n",
    "    (\"surf/\", \"Cortical meshes and annotation files (.white, .pial, .inflated, .annot).\"),\n",
    "    (\"label/\", \"Labels, annotation tables (.ctab), region lists.\"),\n",
    "    (\"stats/\", \"Cortex thickness/surface area stats per region (for group analysis).\"),\n",
    "    (\"scripts/\", \"Run logs, IsRunning flags, and command histories.\"),\n",
    "]\n",
    "for d, t in notes:\n",
    "    print(f\"{d:12s} {t}\")"
   ]
  }
 ],
 "metadata": {
  "colab": {
   "include_colab_link": true,
   "provenance": []
  },
  "kernelspec": {
   "display_name": "Python [conda env:base] *",
   "language": "python",
   "name": "conda-base-py"
  },
  "language_info": {
   "codemirror_mode": {
    "name": "ipython",
    "version": 3
   },
   "file_extension": ".py",
   "mimetype": "text/x-python",
   "name": "python",
   "nbconvert_exporter": "python",
   "pygments_lexer": "ipython3",
   "version": "3.12.10"
  }
 },
 "nbformat": 4,
 "nbformat_minor": 5
}
